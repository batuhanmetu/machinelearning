{
 "cells": [
  {
   "cell_type": "markdown",
   "metadata": {},
   "source": [
    "# Local Linear Embedding\n",
    "\n",
    "Author: Chris Nunn, Jeremy Rothschild\n",
    "\n",
    "[Theory](#linkTheory)  <br>\n",
    "[Example 1: The classic cinnamon bun](#linkExample1)  <br>\n",
    "[Example 2: Faces](#linkExample2) <br>\n",
    " \n",
    "[Resources](#linkResources)  "
   ]
  },
  {
   "cell_type": "markdown",
   "metadata": {},
   "source": [
    "### Theory<a id='linkTheory'></a>\n",
    "\n",
    "CONTINUE\n",
    "\n",
    "#### LLE algorithm\n",
    "\n",
    "1. Compute neighors of $X_i$\n",
    "2. Compute the weights $W_{ij}$ that best reconstruct each data point $X_i$ from it's neighbors, minimzing the cost function $J=\\sum_i |X_i + \\sum_j W_{ij}X_j|^2$ with constraints.\n",
    "3. Compute the (lower dimensional) vectors $Y_i$ best reconstructed by the weights $W_{ij}$, minimzing the cost function $J=\\sum_i |Y_i + \\sum_j W_{ij}Y_j|^2$, which is equivalent to solving an eigenvector problem.\n",
    "\n",
    "#### Discussion\n",
    "\n",
    "\n",
    "#### Code\n",
    "\n",
    "In the following sections we have written some examples of LLE."
   ]
  },
  {
   "cell_type": "markdown",
   "metadata": {},
   "source": [
    "### Example 1: The cinnamon bun<a id='linkExample1'></a>"
   ]
  },
  {
   "cell_type": "markdown",
   "metadata": {},
   "source": [
    "### Example 2: Faces<a id='linkExample2'></a>"
   ]
  },
  {
   "cell_type": "markdown",
   "metadata": {},
   "source": [
    "### Ressources<a id='linkResources'></a>"
   ]
  },
  {
   "cell_type": "markdown",
   "metadata": {},
   "source": [
    "[classic paper](https://cs.nyu.edu/~roweis/lle/papers/lleintro.pdf)"
   ]
  },
  {
   "cell_type": "code",
   "execution_count": null,
   "metadata": {},
   "outputs": [],
   "source": []
  }
 ],
 "metadata": {
  "kernelspec": {
   "display_name": "Python 3",
   "language": "python",
   "name": "python3"
  },
  "language_info": {
   "codemirror_mode": {
    "name": "ipython",
    "version": 3
   },
   "file_extension": ".py",
   "mimetype": "text/x-python",
   "name": "python",
   "nbconvert_exporter": "python",
   "pygments_lexer": "ipython3",
   "version": "3.6.5"
  }
 },
 "nbformat": 4,
 "nbformat_minor": 2
}
