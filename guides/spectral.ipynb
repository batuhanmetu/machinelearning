{
 "cells": [
  {
   "cell_type": "markdown",
   "metadata": {
    "deletable": true,
    "editable": true
   },
   "source": [
    "# Spectral clustering / embedding\n",
    "\n",
    "Author: Matt Smart\n",
    "\n",
    "[Overview](#linkOverview)  \n",
    "[Graph Theory](##linkGraph)   \n",
    "[Algorithm](#linkAlgorithm)  \n",
    "[Example 1: Simple graph clusters](#linkExample1)  \n",
    "[Example 2: ???](#linkExample2)  \n",
    "[Resources](#linkResources)  "
   ]
  },
  {
   "cell_type": "markdown",
   "metadata": {
    "deletable": true,
    "editable": true
   },
   "source": [
    "### Overview <a id='linkOverview'></a>\n",
    "- non-linear dimension reduction technique\n",
    "- rough idea: Find structure in data from the eigendecomposition of the Laplacian of the data's distance matrix\n",
    "    - Step 1: Construct graph Laplacian from the pairwise distances between data points\n",
    "    - Step 2: Find eigendecomposition of the Laplacian\n",
    "    - Step 3: Use eigendecomposition to find a low dimension embedding of the data or clusters\n",
    "- can be thought of as the \"vanilla version\" of related techniques such as diffusion map and umap"
   ]
  },
  {
   "cell_type": "markdown",
   "metadata": {
    "deletable": true,
    "editable": true
   },
   "source": [
    "### Some minimal graph theory <a id='linkGraph'></a>\n",
    "\n",
    "#### Graphs\n",
    "Graphs are denoted by $G=(V,E)$  \n",
    "- $V$ or $V(G)$ denotes the \"vertices\" or \"nodes\"  \n",
    "- $E$ or $E(G)$ denotes the \"edges\"  \n",
    "\n",
    "#### Graph properties\n",
    "- **_adjacent vertices_**: directly connected by an edge\n",
    "- **_edge weights_**: edges may or may not have \"weights\" associated with them, giving a notion of connection strength\n",
    "- **_connected graph_**: there exists path between any two nodes $i$ and $j$\n",
    "- **_weighted graph_**: unweighted graphs have all edge weights constant (or $1$), weighted graphs are any deviation from this\n",
    "- **_undirected graph_**: all edge weights are symmetric\n",
    "- **_directed graph_**: one or more edge weights are assymmetric\n",
    "- **_degree of a node_**: $d(j) = \\sum_{i} w_{ij} $\n",
    "\n",
    "#### Matriices that characterize a graph\n",
    "- $A$ - **_adjacency matrix_**: $a_{ij}=1$ if nodes are adjacent, $0$ otherwise (note $a_{ii}=0$)\n",
    "- $W$ - **_weight matrix_**: a scaled (i.e. non-boolean) version of the adjacency matrix; typically restrict weights $w_{ij}\\geq 0$\n",
    "- $D$ - **_degree matrix_**: diagonal matrix of degrees of each node; $d_{jj}=\\sum_i w_{ij}$\n",
    "- $L$ - **_graph laplacian_**: $L=D-A$ for unweighted graphs, or $L=D-W$ for weighted graphs\n",
    "\n",
    "$L$ is a useful construction to store and infer graph properties\n",
    "\n",
    "#### Basic proprties of graph laplacian\n",
    "- off-diagonals are non-positive (if we constrain the weights to be non-negative); diagonals are non-negative\n",
    "- columns of $L$ sum to zero\n",
    "- $L$ is positive semi-definite\n",
    "- the smallest eigenvalue is $\\lambda_1=0$, with corresponding eigenvector a \"steady state\" of the graph (more below)\n",
    "- algebraic multiplicity of $\\lambda_1=0$ corresponds to the number of subgraphs (multiplicity one means $G$ is connected)\n",
    "- $L$ has $p$ non-negative, real eigenvalues $0=\\lambda_1\\leq\\lambda_2\\leq\\ldots\\leq\\lambda_p$\n",
    "\n",
    "#### Connection to general stochastic processes\n",
    "\n",
    "- interpret $L$ as generator of dynamics between the nodes of the graph\n",
    "- $v(t)$ describes the state of the graph as real values at each node\n",
    "- consider dynamics: $\\dot v = -Lv$\n",
    "- trajectories: $v(t)=e^{-Lt}v_0$\n",
    "- these dynamics preserve $\\sum_i v_i$\n",
    "- probability flow: $-L_{ij}$ describes the infinitesimal transition rate of probability (or heat, water.. etc) from node $j$ to node $i$\n",
    "\n",
    "#### Why is it called \"Laplacian\"?\n",
    "- recall the heat equation $\\frac{\\partial u}{\\partial t}=\\nabla^2 u$\n",
    "- $L$ is the discrete version of the continuous laplacian operator $\\nabla^2$\n",
    "- suppose space were note continuous but discrete (e.g. mesh of $p$ connected nodes), then $\\dot u = -Lu$ would describe heat flow on the mesh\n",
    "\n",
    "#### For our purposes\n",
    "- we will assume connected graph and make sure any constructions satisfy this\n",
    "- nodes of the graph are in 1-1 correspondence with our data points/samples\n",
    "- edges describe some relationship between data samples (e.g. proximity)"
   ]
  },
  {
   "cell_type": "markdown",
   "metadata": {
    "deletable": true,
    "editable": true
   },
   "source": [
    "### Algorithm <a id='linkAlgorithm'></a>\n",
    "\n",
    "#### Setup / input\n",
    "- suppose one has $p$ samples of N-dimensional data points, $x_i\\in\\mathbb{R}^N$\n",
    "- store the data samples columnwise as $X\\in\\mathbb{R}^{N\\,\\times\\,p}$\n",
    "\n",
    "#### Step 1: Distance matrix -> Similarity matrix  -> Graph Laplacian\n",
    "\n",
    "**_Pairwise distances_**: Choose a metric $d(\\cdot, \\cdot)$.\n",
    "- often one uses Euclidean distance if data is continuous samples from $\\mathbb{R}^N$\n",
    "- other distances may be more appropriate (e.g. 1-norm if data is binarized)\n",
    "\n",
    "**_Similarity matrix_**: Crudely, make them inversely proportional to the distances. Goal is to store local relationships between the datapoints.  \n",
    "Example choices:\n",
    "- $s_{ij}=\\frac{1}{d_{ij}^2}$  \n",
    "- $s_{ij}(\\sigma)=exp(-d_{ij}^2\\,/\\, 2\\sigma)$  \n",
    "- alternatively, it could correspond to a qualitative ordering / ranking of similarities\n",
    "\n",
    "**_Laplacian construction_**: Need to make some choices to build something resembling $L=D-S$.  \n",
    "First construct diagonal degree matrix $D$ by summing the columns of similarity matrix $S$: $\\:\\:d_{jj} = \\sum_i s_{ij} $.  \n",
    "Possible Laplacian choices (some are outlined in von Luxburg, 2007): \n",
    "1. $L=D-S\\:\\:\\:\\:\\:\\:\\:\\:\\:\\:\\:\\:\\:\\:\\:\\:\\:\\:\\:\\:\\:\\:\\:$ (standard, unnormalized)\n",
    "2. $L=I-D^{-1}S\\:\\:\\:\\:\\:\\:\\:\\:\\:\\:\\:\\:\\:\\:\\:\\:\\:\\:$  (normalized)\n",
    "3. $L=I-D^{-1/2}SD^{-1/2}\\:\\:\\:\\:\\:\\:$ (normalized, symmetrized)\n",
    "\n",
    "\n",
    "#### Step 2: Find eigendecomposition of the Laplacian\n",
    "...\n",
    "Reminder or note about structure of L constrains eigenstructure: least eigenvalue is...\n",
    "\n",
    "\n",
    "#### Step 3: Use eigendecomposition to find a low dimension embedding of the data or clusters\n",
    "...\n",
    "\n",
    "\n",
    "...  \n",
    "...  \n",
    "...  OLD MDS BELOW\n",
    "\n",
    "Optimization:\n",
    "- solve $Y^\\ast=\\operatorname*{arg\\,min}_Y f(W,X,Y)$ by \"stress majorization\" (see https://en.wikipedia.org/wiki/Stress_majorization)\n",
    "- can show procedure monotonically decreases cost function (i.e. finds local minima)\n",
    "- repeat for multiple initial conditions $Y^{(0)}$, choose best local minima\n",
    "- note many local minima, $\\{Y_{candidate}\\}$, each invariant under translation/reflection/rotation\n",
    "\n",
    "Output:\n",
    "- locally optimal embedding (k-dim representation) $Y\\in\\mathbb{R}^{k\\,\\times\\,p}$\n",
    "\n",
    "Runtime:\n",
    "- MDS $\\approx O\\left(p^3\\right)$  (where $p$ is the number of $\\mathbb{R}^N$ data points)\n",
    "- compare vs. e.g. PCA $\\approx O(p^2)$\n",
    "\n",
    "Note:\n",
    "- one way to choose $k$ is to run MDS for multiple $k$, plot $f(W,X,Y^\\ast)$ vs. $k$\n",
    "- look for an \"elbow\" in the plot -- this implies \"good bang for your buck\""
   ]
  },
  {
   "cell_type": "markdown",
   "metadata": {
    "deletable": true,
    "editable": true
   },
   "source": [
    "### Example 1: Basic idea to identify graph clusters <a id='linkExample1'></a>"
   ]
  },
  {
   "cell_type": "code",
   "execution_count": 37,
   "metadata": {
    "collapsed": false,
    "deletable": true,
    "editable": true
   },
   "outputs": [
    {
     "name": "stdout",
     "output_type": "stream",
     "text": [
      "X data samples shape: (1000, 2)\n",
      "Y data labels shape: (1000,)\n"
     ]
    },
    {
     "data": {
      "image/png": "[encoded data removed]",
      "text/plain": [
       "<Figure size 432x288 with 1 Axes>"
      ]
     },
     "metadata": {
      "needs_background": "light"
     },
     "output_type": "display_data"
    }
   ],
   "source": [
    "import matplotlib.pyplot as plt\n",
    "import networkx as nx\n",
    "import numpy as np\n",
    "from sklearn.datasets import make_blobs\n",
    "from sklearn.metrics import pairwise_distances\n",
    "\n",
    "p = 1000   # num samples\n",
    "n = 2      # original dimension R^n\n",
    "k = 3      # number clusters\n",
    "\n",
    "# generate some blob data in 2D\n",
    "X, Y = make_blobs(n_samples=p, centers=k, n_features=n, random_state=77)\n",
    "print(\"X data samples shape:\", X.shape)\n",
    "print(\"Y data labels shape:\", Y.shape)\n",
    "\n",
    "# visualize data in R^n\n",
    "for label in set(Y):\n",
    "    mask = Y==label\n",
    "    plt.scatter(X[:,0][mask], X[:,1][mask], marker = '.', label = label)   #, color =  label + 1) #, label = str(label))\n",
    "plt.legend()\n",
    "plt.show()"
   ]
  },
  {
   "cell_type": "code",
   "execution_count": 38,
   "metadata": {
    "collapsed": false
   },
   "outputs": [
    {
     "ename": "ValueError",
     "evalue": "Input must be 1- or 2-d.",
     "output_type": "error",
     "traceback": [
      "\u001b[1;31m---------------------------------------------------------------------------\u001b[0m",
      "\u001b[1;31mValueError\u001b[0m                                Traceback (most recent call last)",
      "\u001b[1;32m<ipython-input-38-8807c06bc628>\u001b[0m in \u001b[0;36m<module>\u001b[1;34m\u001b[0m\n\u001b[0;32m      6\u001b[0m \u001b[1;33m\u001b[0m\u001b[0m\n\u001b[0;32m      7\u001b[0m \u001b[1;31m# construct graph laplacian L = D - S\u001b[0m\u001b[1;33m\u001b[0m\u001b[1;33m\u001b[0m\u001b[0m\n\u001b[1;32m----> 8\u001b[1;33m \u001b[0mW\u001b[0m \u001b[1;33m=\u001b[0m \u001b[0mnp\u001b[0m\u001b[1;33m.\u001b[0m\u001b[0mdiag\u001b[0m\u001b[1;33m(\u001b[0m\u001b[0mnp\u001b[0m\u001b[1;33m.\u001b[0m\u001b[0msum\u001b[0m\u001b[1;33m(\u001b[0m\u001b[0mS\u001b[0m\u001b[1;33m)\u001b[0m\u001b[1;33m)\u001b[0m\u001b[1;33m\u001b[0m\u001b[0m\n\u001b[0m\u001b[0;32m      9\u001b[0m \u001b[0mL\u001b[0m \u001b[1;33m=\u001b[0m \u001b[0mnp\u001b[0m\u001b[1;33m.\u001b[0m\u001b[0meye\u001b[0m\u001b[1;33m(\u001b[0m\u001b[1;33m)\u001b[0m\u001b[1;33m\u001b[0m\u001b[0m\n",
      "\u001b[1;32m~\\AppData\\Local\\Programs\\Python\\Python36\\lib\\site-packages\\numpy\\lib\\twodim_base.py\u001b[0m in \u001b[0;36mdiag\u001b[1;34m(v, k)\u001b[0m\n\u001b[0;32m    263\u001b[0m         \u001b[1;32mreturn\u001b[0m \u001b[0mdiagonal\u001b[0m\u001b[1;33m(\u001b[0m\u001b[0mv\u001b[0m\u001b[1;33m,\u001b[0m \u001b[0mk\u001b[0m\u001b[1;33m)\u001b[0m\u001b[1;33m\u001b[0m\u001b[0m\n\u001b[0;32m    264\u001b[0m     \u001b[1;32melse\u001b[0m\u001b[1;33m:\u001b[0m\u001b[1;33m\u001b[0m\u001b[0m\n\u001b[1;32m--> 265\u001b[1;33m         \u001b[1;32mraise\u001b[0m \u001b[0mValueError\u001b[0m\u001b[1;33m(\u001b[0m\u001b[1;34m\"Input must be 1- or 2-d.\"\u001b[0m\u001b[1;33m)\u001b[0m\u001b[1;33m\u001b[0m\u001b[0m\n\u001b[0m\u001b[0;32m    266\u001b[0m \u001b[1;33m\u001b[0m\u001b[0m\n\u001b[0;32m    267\u001b[0m \u001b[1;33m\u001b[0m\u001b[0m\n",
      "\u001b[1;31mValueError\u001b[0m: Input must be 1- or 2-d."
     ]
    }
   ],
   "source": [
    "# compute data distances\n",
    "D = pairwise_distances(X, metric='euclidean')\n",
    "\n",
    "# convert to similarity matrix\n",
    "S = ...\n",
    "\n",
    "# construct graph laplacian L = D - S\n",
    "W = np.diag(np.sum(S))\n",
    "L = np.eye()"
   ]
  },
  {
   "cell_type": "markdown",
   "metadata": {
    "collapsed": false,
    "deletable": true,
    "editable": true
   },
   "source": [
    "### Example 2: ???? <a id='linkExample2'></a>"
   ]
  },
  {
   "cell_type": "markdown",
   "metadata": {
    "deletable": true,
    "editable": true
   },
   "source": [
    "### Resources <a id='linkResources'></a>\n",
    "- On Spectral Clustering - analysis and algorithm (Ng, 2002, NIPS)\n",
    "- A Tutorial on Spectral Clustering (von Luxburg, 2007)\n",
    "- REVIEW Community detection in graphs (Fortunato, 2010, arxiv)\n",
    "- Detecting communities in large networks (Cappoci, 2005, PhysicaA)"
   ]
  }
 ],
 "metadata": {
  "kernelspec": {
   "display_name": "Python 3",
   "language": "python",
   "name": "python3"
  },
  "language_info": {
   "codemirror_mode": {
    "name": "ipython",
    "version": 3
   },
   "file_extension": ".py",
   "mimetype": "text/x-python",
   "name": "python",
   "nbconvert_exporter": "python",
   "pygments_lexer": "ipython3",
   "version": "3.6.6"
  }
 },
 "nbformat": 4,
 "nbformat_minor": 2
}
