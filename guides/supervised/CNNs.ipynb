{
 "cells": [
  {
   "cell_type": "markdown",
   "metadata": {},
   "source": [
    "# Implementation of a Convolutional Neural Network\n",
    "\n",
    "Author: **Duncan Kirby**\n",
    "\n",
    "Adapted from Erick Spence's lectures [\"Introduction to Neural Network programming\"](https://support.scinet.utoronto.ca/education/go.php/363/index.php)\n",
    "\n",
    "[The overview](#linkOverview)   \n",
    "[Example 1: Feed-Forward Neural Network](#linkffnn)  \n",
    "[Example 2: Convolutional Neural Network](#linkcnn)  \n",
    "\n",
    "\n",
    "<a id='linkOverview'></a>\n",
    "**Given:** 2D images, each image belonging to a single class.\n",
    "\n",
    "**Need:** To build a model that can predict a class for a new image\n",
    "\n",
    "**Remember:** CNNs are built on the idea of recognizing the existence of many different features throughout an image.\n",
    "\n",
    "### In this notebook we will implement:\n",
    "- a simple neural network in Keras, to try and classify images \n",
    "- a convolutional neural network with 5 layers (one input layer, one layer of filters, one layer of max pooling, one deeply connected layer, and one output layer).\n",
    "\n",
    "#### Architecture and hyperparameters: \n",
    "- Activation function: ReLU: $\\sigma\\left(z\\right) = max(0,x)$\n",
    "- Cost function: cross-entropy "
   ]
  },
  {
   "cell_type": "markdown",
   "metadata": {},
   "source": [
    "## Example 1: <a id='linkffnn'></a>\n",
    "\n",
    "### A Simple Feed Forward NN"
   ]
  },
  {
   "cell_type": "code",
   "execution_count": 45,
   "metadata": {},
   "outputs": [],
   "source": [
    "import numpy as np \n",
    "import matplotlib.pyplot as plt\n",
    "import keras.models as km\n",
    "import keras.layers as kl\n",
    "import keras.utils as ku"
   ]
  },
  {
   "cell_type": "code",
   "execution_count": 46,
   "metadata": {},
   "outputs": [],
   "source": [
    "plt.rcParams['figure.dpi'] = 90\n",
    "plt.rcParams['figure.figsize'] = (6,5)"
   ]
  },
  {
   "cell_type": "markdown",
   "metadata": {},
   "source": [
    "#### Import our data\n",
    "##### The CIFAR10 data set is a series of images in the categories:\n",
    "* airplanes\n",
    "* cars\n",
    "* birds\n",
    "* cats\n",
    "* deer\n",
    "* dogs\n",
    "* frogs\n",
    "* horses\n",
    "* ships\n",
    "* trucks"
   ]
  },
  {
   "cell_type": "code",
   "execution_count": 47,
   "metadata": {},
   "outputs": [
    {
     "name": "stdout",
     "output_type": "stream",
     "text": [
      "Each image is (32, 32, 3) pixels\n",
      "There are 50000 images in the training set, with 50000 labels\n"
     ]
    }
   ],
   "source": [
    "from keras.datasets import cifar10\n",
    "\n",
    "(x_train, y_train), (x_test, y_test) = cifar10.load_data()\n",
    "print(\"Each image is {} pixels\".format(np.shape(x_train[4])))\n",
    "print(\"There are {} images in the training set, with {} labels\".format(len(x_train), len(y_train)))"
   ]
  },
  {
   "cell_type": "markdown",
   "metadata": {},
   "source": [
    "##### Let's take a peek at our data to see what it looks like"
   ]
  },
  {
   "cell_type": "code",
   "execution_count": 48,
   "metadata": {},
   "outputs": [
    {
     "name": "stdout",
     "output_type": "stream",
     "text": [
      "Ground truth: [1]\n"
     ]
    },
    {
     "data": {
      "text/plain": [
       "<matplotlib.image.AxesImage at 0x20bad6ca0f0>"
      ]
     },
     "execution_count": 48,
     "metadata": {},
     "output_type": "execute_result"
    },
    {
     "data": {
      "image/png": "[encoded data removed]",
      "text/plain": [
       "<Figure size 540x450 with 1 Axes>"
      ]
     },
     "metadata": {},
     "output_type": "display_data"
    }
   ],
   "source": [
    "print(\"Ground truth: {}\".format(y_train[4]))\n",
    "plt.imshow(x_train[4])"
   ]
  },
  {
   "cell_type": "markdown",
   "metadata": {},
   "source": [
    "##### We should normalize our data to prevent the gradient from varying wildly between images"
   ]
  },
  {
   "cell_type": "code",
   "execution_count": 49,
   "metadata": {},
   "outputs": [],
   "source": [
    "mean = np.mean(x_train,axis=(0,1,2,3))\n",
    "std = np.std(x_train,axis=(0,1,2,3))\n",
    "x_train = (x_train-mean)/(std+1e-7)\n",
    "x_test = (x_test-mean)/(std+1e-7)"
   ]
  },
  {
   "cell_type": "markdown",
   "metadata": {},
   "source": [
    "##### We'll also need to flatten the inputs for our feedforward network"
   ]
  },
  {
   "cell_type": "code",
   "execution_count": 50,
   "metadata": {},
   "outputs": [
    {
     "name": "stdout",
     "output_type": "stream",
     "text": [
      "Now the image set is 50000 images as 3072-length vectors\n"
     ]
    }
   ],
   "source": [
    "flat_image_length = np.prod(np.shape(x_train[4]))\n",
    "ff_x_train = x_train.reshape(x_train.shape[0], flat_image_length)\n",
    "ff_x_test = x_test.reshape(x_test.shape[0], flat_image_length)\n",
    "print(\"Now the image set is {} images as {}-length vectors\".format(np.shape(ff_x_train)[0],np.shape(ff_x_train)[1]))"
   ]
  },
  {
   "cell_type": "markdown",
   "metadata": {},
   "source": [
    "##### We additionally would like the labels to be one-hot-encoded"
   ]
  },
  {
   "cell_type": "code",
   "execution_count": 51,
   "metadata": {},
   "outputs": [
    {
     "name": "stdout",
     "output_type": "stream",
     "text": [
      "[6]\n",
      "[0. 0. 0. 0. 0. 0. 1. 0. 0. 0.]\n"
     ]
    }
   ],
   "source": [
    "print(y_train[0])\n",
    "y_train = ku.to_categorical(y_train)\n",
    "y_test = ku.to_categorical(y_test)\n",
    "print(y_train[0])"
   ]
  },
  {
   "cell_type": "markdown",
   "metadata": {},
   "source": [
    "#### Write a function to build our model architecture"
   ]
  },
  {
   "cell_type": "code",
   "execution_count": 52,
   "metadata": {},
   "outputs": [],
   "source": [
    "def get_feedforward_neural_net(numnodes):\n",
    "    model = km.Sequential()\n",
    "    model.add(kl.Dense(numnodes, input_dim=3072, activation='sigmoid'))\n",
    "    model.add(kl.Dense(10, activation='softmax'))\n",
    "    return model"
   ]
  },
  {
   "cell_type": "markdown",
   "metadata": {},
   "source": [
    "#### Let's build this model and train it!"
   ]
  },
  {
   "cell_type": "code",
   "execution_count": 53,
   "metadata": {},
   "outputs": [],
   "source": [
    "ffNN = get_feedforward_neural_net(100)\n",
    "ffNN.compile(optimizer='sgd', loss='mean_squared_error', metrics=['accuracy'])"
   ]
  },
  {
   "cell_type": "code",
   "execution_count": 54,
   "metadata": {},
   "outputs": [
    {
     "name": "stdout",
     "output_type": "stream",
     "text": [
      "Train on 50000 samples, validate on 10000 samples\n",
      "Epoch 1/10\n",
      "50000/50000 [==============================] - 13s 251us/step - loss: 0.0963 - acc: 0.1075 - val_loss: 0.0947 - val_acc: 0.1137-\n",
      "Epoch 2/10\n",
      "50000/50000 [==============================] - 4s 82us/step - loss: 0.0938 - acc: 0.1121 - val_loss: 0.0928 - val_acc: 0.1202\n",
      "Epoch 3/10\n",
      "50000/50000 [==============================] - 4s 77us/step - loss: 0.0922 - acc: 0.1254 - val_loss: 0.0915 - val_acc: 0.1408\n",
      "Epoch 4/10\n",
      "50000/50000 [==============================] - 4s 78us/step - loss: 0.0910 - acc: 0.1485 - val_loss: 0.0904 - val_acc: 0.1707\n",
      "Epoch 5/10\n",
      "50000/50000 [==============================] - 4s 85us/step - loss: 0.0901 - acc: 0.1736 - val_loss: 0.0896 - val_acc: 0.1927\n",
      "Epoch 6/10\n",
      "50000/50000 [==============================] - 4s 80us/step - loss: 0.0894 - acc: 0.1918 - val_loss: 0.0889 - val_acc: 0.2063\n",
      "Epoch 7/10\n",
      "50000/50000 [==============================] - 4s 73us/step - loss: 0.0887 - acc: 0.2046 - val_loss: 0.0883 - val_acc: 0.2154\n",
      "Epoch 8/10\n",
      "50000/50000 [==============================] - 4s 71us/step - loss: 0.0882 - acc: 0.2140 - val_loss: 0.0878 - val_acc: 0.2240\n",
      "Epoch 9/10\n",
      "50000/50000 [==============================] - 3s 70us/step - loss: 0.0877 - acc: 0.2205 - val_loss: 0.0874 - val_acc: 0.2302\n",
      "Epoch 10/10\n",
      "50000/50000 [==============================] - 4s 72us/step - loss: 0.0873 - acc: 0.2284 - val_loss: 0.0869 - val_acc: 0.2376\n"
     ]
    }
   ],
   "source": [
    "ffNN_fit = ffNN.fit(ff_x_train, y_train, batch_size=256, epochs=10, verbose=1, validation_data=(ff_x_test, y_test))"
   ]
  },
  {
   "cell_type": "markdown",
   "metadata": {},
   "source": [
    "## Example 2: <a id='linkcnn'></a>\n",
    "\n",
    "### A Convolutional Neural Network\n",
    "\n",
    "##### We will use the same CIFAR10 dataset but we will use the original 32x32x3 images rather than the flattened images.\n",
    "##### Define the CNN architecture we want to use"
   ]
  },
  {
   "cell_type": "code",
   "execution_count": 56,
   "metadata": {},
   "outputs": [],
   "source": [
    "def get_convolutional_neural_net(num_feature_maps, numnodes, input_size = 32, output_size = 10):\n",
    "    model = km.Sequential()\n",
    "    \n",
    "    #Note that the dimensions are in 'channels_last' format (ie. length x width x number of colours)\n",
    "    model.add(kl.Conv2D(num_feature_maps, kernel_size = (5, 5), \n",
    "                        input_shape = (input_size, input_size, 3), activation = \"relu\"))\n",
    "    model.add(kl.MaxPooling2D(pool_size = (2, 2), strides = (2, 2)))\n",
    "\n",
    "    # In theory, this prevents overfitting.\n",
    "    model.add(kl.Dropout(0.1))\n",
    "    \n",
    "    model.add(kl.Flatten())\n",
    "    model.add(kl.Dense(numnodes, activation = \"relu\"))\n",
    "    model.add(kl.Dense(10, activation = \"softmax\"))\n",
    "       \n",
    "    # Return the model.\n",
    "    return model"
   ]
  },
  {
   "cell_type": "markdown",
   "metadata": {},
   "source": [
    "#### Let's build this CNN and train it!"
   ]
  },
  {
   "cell_type": "code",
   "execution_count": 57,
   "metadata": {},
   "outputs": [],
   "source": [
    "CNN = get_convolutional_neural_net(50, 200)\n",
    "CNN.compile(optimizer='sgd', loss='categorical_crossentropy', metrics=['accuracy'])"
   ]
  },
  {
   "cell_type": "code",
   "execution_count": 58,
   "metadata": {},
   "outputs": [
    {
     "name": "stdout",
     "output_type": "stream",
     "text": [
      "Train on 50000 samples, validate on 10000 samples\n",
      "Epoch 1/10\n",
      "50000/50000 [==============================] - 86s 2ms/step - loss: 1.8823 - acc: 0.3321 - val_loss: 1.6781 - val_acc: 0.4114\n",
      "Epoch 2/10\n",
      "50000/50000 [==============================] - 84s 2ms/step - loss: 1.5876 - acc: 0.4417 - val_loss: 1.5328 - val_acc: 0.4513\n",
      "Epoch 3/10\n",
      "50000/50000 [==============================] - 83s 2ms/step - loss: 1.4439 - acc: 0.4948 - val_loss: 1.4066 - val_acc: 0.4966\n",
      "Epoch 4/10\n",
      "50000/50000 [==============================] - 89s 2ms/step - loss: 1.3530 - acc: 0.5241 - val_loss: 1.3565 - val_acc: 0.5162\n",
      "Epoch 5/10\n",
      "50000/50000 [==============================] - 86s 2ms/step - loss: 1.2929 - acc: 0.5475 - val_loss: 1.2959 - val_acc: 0.5437\n",
      "Epoch 6/10\n",
      "50000/50000 [==============================] - 84s 2ms/step - loss: 1.2451 - acc: 0.5643 - val_loss: 1.2456 - val_acc: 0.5659\n",
      "Epoch 7/10\n",
      "50000/50000 [==============================] - 84s 2ms/step - loss: 1.2077 - acc: 0.5780 - val_loss: 1.2169 - val_acc: 0.5750\n",
      "Epoch 8/10\n",
      "50000/50000 [==============================] - 85s 2ms/step - loss: 1.1670 - acc: 0.5942 - val_loss: 1.2092 - val_acc: 0.5792\n",
      "Epoch 9/10\n",
      "50000/50000 [==============================] - 84s 2ms/step - loss: 1.1342 - acc: 0.6039 - val_loss: 1.1999 - val_acc: 0.5744\n",
      "Epoch 10/10\n",
      "50000/50000 [==============================] - 86s 2ms/step - loss: 1.0989 - acc: 0.6199 - val_loss: 1.1751 - val_acc: 0.5858\n"
     ]
    },
    {
     "data": {
      "text/plain": [
       "<keras.callbacks.History at 0x20ba4073d68>"
      ]
     },
     "execution_count": 58,
     "metadata": {},
     "output_type": "execute_result"
    }
   ],
   "source": [
    "CNN.fit(x_train, y_train, batch_size=256, epochs=2, verbose=1, validation_data=(x_test, y_test))"
   ]
  }
 ],
 "metadata": {
  "kernelspec": {
   "display_name": "Python 3",
   "language": "python",
   "name": "python3"
  },
  "language_info": {
   "codemirror_mode": {
    "name": "ipython",
    "version": 3
   },
   "file_extension": ".py",
   "mimetype": "text/x-python",
   "name": "python",
   "nbconvert_exporter": "python",
   "pygments_lexer": "ipython3",
   "version": "3.5.5"
  }
 },
 "nbformat": 4,
 "nbformat_minor": 2
}
