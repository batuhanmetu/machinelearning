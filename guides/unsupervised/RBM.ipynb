{
 "cells": [
  {
   "cell_type": "markdown",
   "metadata": {},
   "source": [
    "# Intro to Hopfield Networks, Boltzmann Machines and RBMs\n",
    "\n",
    "Author: Jeremy Rothschild\n",
    "\n",
    "[Overview](#linkOverview)\n",
    "[Hopfield Networks](#linkHopfield)  \n",
    "[Boltzmann Machine](#linkBM)   \n",
    "[Restricted Boltzmann Machines](#linkRBM)  \n",
    "[Example: Simple Networks](#linkEx1)\n",
    "[Example: MNIST](#linkEx2)\n",
    "[Resources](#linkResources)  "
   ]
  },
  {
   "cell_type": "markdown",
   "metadata": {},
   "source": [
    "### Overview <a id='linkOverview'></a>\n",
    "- This tutorial briefly goes over certain notions of Hopfield Networks and Boltzmann Machines to introduce Restricted Boltzmann Machines (RBM).\n",
    "- RBMs are useful algorithms for dimensionality reduction, classification, regression, collaborative filtering, feature learning and topic modeling\n",
    "- They are sometimes considered as the simplest recursive neural network, and can be used to construct deep networks"
   ]
  },
  {
   "cell_type": "markdown",
   "metadata": {},
   "source": [
    "### Briefly on Hopfield Networks <a id='linkHopfield'></a>\n",
    "\n",
    "#### Structure\n",
    "A Hopfield network is a complete undirected graph with nodes (neurons/units) whose state depends on whether or not input to this node exceeds a threshold. What do we mean by this?\n",
    "<a href=\"https://www.researchgate.net/figure/Schematics-of-a-Hopfield-network-update-step-a-Classical-Hopfield-network-update-Here_fig2_321417576\"><img src=\"https://www.researchgate.net/profile/Gian_Giacomo_Guerreschi/publication/321417576/figure/fig2/AS:566594373525504@1512098033369/Schematics-of-a-Hopfield-network-update-step-a-Classical-Hopfield-network-update-Here.png\" alt=\"Schematics of a Hopfield network update step. (a) Classical Hopfield network update. Here at step t, the neuron 6 is chosen for update. The new state z\"/></a> \n",
    "Image taken from: *Quantum Neuron: an elementary building block for machine learning on quantum computers - Scientific Figure on ResearchGate. Available from: https://www.researchgate.net/figure/Schematics-of-a-Hopfield-network-update-step-a-Classical-Hopfield-network-update-Here_fig2_321417576 [accessed 25 Oct, 2019]*\n",
    "\n",
    "- **_graph_**: A set of vertices and edges in which the edges define relations between the vertices\n",
    "- **_nodes_**: units/vertices, denoted $s_i$ for the $i^\\text{th}$ node, that are connected by weights. Generally these are binary $\\{-1,1\\}$, however similar structure for continuous nodes\n",
    "- **_weights_**: synonym of edges, the connections $w_{ij}$ between the node $s_i$ and $s_j$. Vertices have no connection with themselves, $w_{ii} = 0$.\n",
    "- **_undirected graph_**: All edges between two nodes do not have a preferred directed, in other words $w_{ij}=w_{ji}$\n",
    "- **_input_**: $s_i$ receives as input the value of all the nodes weighted by the edge weights $w_{ij}s_j$ and a correspondig bias $b_i$, $\\sum_j w_{ij}s_j - b_i$\n",
    "\n",
    "#### Update Rule\n",
    "If $\\sum_j w_{ij}s_j - b_i \\geq 0: s_i \\leftarrow 1 $,\n",
    "\n",
    "Else if $\\sum_j w_{ij}s_j - b_i < 0: s_i \\leftarrow 1 $.\n",
    "\n",
    "In a language more familiar to us, we can define an energy function which is either constant or reduced at each step. This is analogous to \n",
    "\n",
    "$E=-\\frac{1}{2}\\sum_{i,j}w_{ij}s_is_j-\\sum_{i}b_is_i$.\n",
    "\n",
    "Notice that the update rule is simply a statement about the difference of energy required to switch between states ${-1,1}$, ensuring a decrease in energy at each step.\n",
    "\n",
    "How we decide to update these vertices is important. Synchronous updates may create periodic patterns (what does a  synchronous update mechanism even mean physically?), whereas asynchronous updates converge to stable minima.\n",
    "\n",
    "#### Notes on Hopfield networks\n",
    "\n",
    "1. Hopfields are an example of Markov Random Fields\n",
    "2. In asynchronous updates, convergence is generally assured (shown by Hopfield)\n",
    "3. Training involves lowering energy of states that we want the network to converge to (minima)\n",
    "4. Minima $S^n=\\{s^n_i\\}$ (often referred to as *memories*)of the energy function can be encoded by clever selection of the weights. For example, Hebbian learning assigns the rule for a set of $N$ memories, $\\{S^n\\}$, : $w_{ij}=\\frac{1}{N}\\sum_n^N s^n_is^n_j$\n",
    "5. Can we say something about the probability of certain minima?"
   ]
  },
  {
   "cell_type": "markdown",
   "metadata": {},
   "source": [
    "### Boltzmann Machines <a id='linkBM'></a>\n",
    "\n",
    "#### Structure\n",
    "\n",
    "The structure of Boltzmann machines are very similar to those of Hopfield networks, the difference lies in their update rules.\n",
    "\n",
    "Conventionally (to simplify certain derivations and confuse readers), the states of a Boltzmann are written as $\\{0,1\\}$ for the state of the node as {off,on}.\n",
    "\n",
    "#### Update Rule\n",
    "\n",
    "Similar to Hopfield networks, we have an energy $E=-\\frac{1}{2}\\sum_{i,j}w_{ij}s_is_j-\\sum_{i}b_is_i$.\n",
    "\n",
    "Whereas the Hopfield networks have a 'deteministic' update rule, Boltzmann machines assign a probability of being in microstate. That the probability of a state should be proportional to the exponential of the energy\n",
    "\n",
    "$P(s_i\\in \\{1,0\\})=\\frac{1}{Z}e^{-E(s_i)/k_BT}$\n",
    "\n",
    "Note that when updating a node $s_i$ in our system, we ask whether or not the node should be $s_i=0$ or $s_i=1$, which we can find from the difference in energies. Taking log of probabilities(by neglecting log$Z$), we find that the probability of being on $s_i=1$ is\n",
    "\n",
    "$P(s_i=1)=\\frac{1}{1+e^{-(E(s_i=0)-E(s_i=1))/k_B T)}}$.\n",
    "\n",
    "For this derivation, recall that $P(s_i=1)+P(s_i=0)=1$. Draw from a uniform distribution $x\\in[0,1]$ and if $x<P(s_i=1)$, assign $s_i=1$, else $s_i=0$. \n",
    "\n",
    "Thus there's a probability that the switching happens even if it induces an increase in the energy of the system. This is why Boltzmann mahcines are often referred to as stochastic Hopfield networks.\n",
    "\n",
    "#### Visible and hidden units\n",
    "\n",
    "Suppose we have some network/machine with. Not all these units might correspond to our observables/data $\\textbf{V}$. They correspond to higher order interactions.\n",
    "<img src=\"https://upload.wikimedia.org/wikipedia/commons/7/7a/Boltzmannexamplev1.png\" alt=\"Hidden and visible nodes\"/>\n",
    "Image taken from: Wikipedia, Boltzmann Machine.\n",
    "\n",
    "#### Training\n",
    "\n",
    "Given a dataset $\\textbf{V}=\\{\\textbf{v}^n\\}$ (size of dataset, $|V|=N$), we would like to find the weights of our network that can recreate the structure of the data most accurately, i.e. find the parameters $\\textbf{W}=\\{w_{ij}\\}$ that maximize (minimize) the likelihood $\\mathcal{L}$ (negative log-likelihood). \n",
    "\n",
    "$-\\ln{\\mathcal{L}}=-\\frac{1}{N}\\sum_{n=1}^N\\ln{p(\\textbf{v}^n;\\textbf{W})}$\n",
    "\n",
    "To extremize $(W)$ over the likelihood, we will solve $-\\frac{ \\partial \\ln{\\mathcal{L}}}{w_{ij}}=0$ and use gradient descent ($w_{ij}^{t+1}=w_{ij}^{t+1}-\\alpha \\frac{ \\partial \\ln{\\mathcal{L}}}{w_{ij}}$).\n",
    "\n",
    "We can write our probabilities as\n",
    "\n",
    "$p(\\textbf{v}^n;\\textbf{W})=\\sum_h p(\\textbf{v}^n,h;\\textbf{W})=\\frac{1}{Z}\\sum_he^{-E(\\textbf{v}^n,h)/k_B T} $\n",
    "\n",
    "where $Z=\\sum_{v,h}e^{-E(v,h)/k_B T}$. After some math (see REF) we obtain\n",
    "\n",
    "$-\\frac{\\partial \\ln{\\mathcal{L}}}{w_{ij}}=\\frac{1}{N}\\sum_{n=1}^N \\sum_h p(h|\\textbf{v}^n)\\frac{\\partial E(\\textbf{v}^n,h)}{\\partial w_{ij}} - \\sum_{h,v} p(\\textbf{v},h)\\frac{ \\partial E(\\textbf{v},h) }{\\partial w_{ij}}$\n",
    "\n",
    "We can get similar expressions for the biases.\n",
    "This is difficult to calculate, given that the sums in the second term involve computing all the configurations possible of v and h. Computationally possible, albeit long to do.\n",
    "\n",
    "Are there structures for Boltzmann machine structures for which this is  feasible problem? Are there restrictions we can make in our architecture that simplify the above expression?"
   ]
  },
  {
   "cell_type": "markdown",
   "metadata": {},
   "source": [
    "### Restricted Boltzmann Machines <a id='linkRBM'></a>\n",
    "\n",
    "#### Structure\n",
    "\n",
    "In general Boltzmann machines, there is no restriction as to connections between hidden units and visible units.However, let us design a network such that all weigths from hidden units to visible ones are 0 (effectively for all hidden pairs $(h_i,h_j)$, $w_{ij}=0$} and similarly for visible pairs $(v_i,v_j)$). This gives us 2 layers: a hidden and a visible layer.\n",
    "\n",
    "<img src=\"https://miro.medium.com/max/665/1*Z-uEtQkFPk7MtbolOSUvrA.png\" alt=\"RBM\"/>\n",
    "Image taken from: Medium[https://medium.com/datatype/restricted-boltzmann-machine-a-complete-analysis-part-1-introduction-model-formulation-1a4404873b3].\n",
    "\n",
    "Although this system is more constrained it is much easier to train, as we shall see shortly.\n",
    "\n",
    "We can write the energy function as $E=-\\frac{1}{2}\\sum_{i,j}w_{ij}v_ih_j-\\sum_{i}b_iv_i-\\sum_{j}c_jh_j$.\n",
    "\n",
    "Given all hidden units, visible units are independant. Similarly for hidden units. This simplifies our probabilities greatly.\n",
    "\n",
    "Conditional probabilities factor nicely:\n",
    "\n",
    "$P(h|v)=\\Pi^n_i P(h_i|v)$ and $P(v|h)=\\Pi^m_j P(v_i|h)$\n",
    "\n",
    "where\n",
    "\n",
    "$P(h_i=1|v)=\\text{sigm}(\\sum^m_j w_{ij} v_j + c_i)$ and $P(v_j=1|h)=\\text{sigm}(\\sum^n_i w_{ij} h_i + b_j)$.\n",
    "\n",
    "#### Training Cont'd\n",
    "\n",
    "- Simplification of previous results\n",
    "\n",
    "$-\\frac{\\partial \\ln{\\mathcal{L}}}{w_{ij}}=\\frac{1}{N}\\sum_{n=1}^N P(h_i=1|v^n)v^n_j-\\sum_v P(v)P(h_i=1|v)$\n",
    "\n",
    "This is often written as ${\\langle v_ih_j \\rangle}_{data}-{\\langle v_ih_j \\rangle}_{model}$.\n",
    "\n",
    "The first term of this sum is rather simple, sum over all data points in your set and you're good to go (can easily be done in parallel too!). However the second term is rather problematic. There is still the need to sample over all possible configurations of the model $P(v)$.\n",
    "\n",
    "- Gibbs Sampling\n",
    "\n",
    "Need to estimate an average over a distribution\n",
    "\n",
    "Algorithm:\n",
    "1. Initialize $\\vec{x}^{(0)}$ from the prior distribution $P(\\vec{x})$\n",
    "2. Iterate for a certain number of time steps i in (0,...,T) and sample\n",
    "\n",
    "    $x_1^{(i)}\\sim P(X_1=x_1|\\{X_j=x_j^{(i-1)}\\}_{j \\neq 1})$\n",
    "\n",
    "    ...\n",
    "\n",
    "    $x_N^{(i)}\\sim P(X_N=x_N|\\{X_j=x_j^{(i-1)}\\}_{j \\neq N})$\n",
    "    \n",
    "3. Check convergence\n",
    "\n",
    "There is a guarantee that for long enough *Gibbs chain*\n",
    "\n",
    "- Contrastive Divergence\n",
    "\n",
    "Applying Gibbs Sampling to our ${\\langle v_ih_j \\rangle}_{model}$. Convergence proved by Bengio and Delalleau.\n",
    "\n",
    "#### Extensions worth looking into\n",
    "\n",
    "1. Non-binary/Continuous states\n",
    "\n",
    "2. Relation between Hopfield Networks and RBMs\n",
    "\n",
    "3. RBM for quantum mechanics\n",
    "\n",
    "4. Deep hidden layers"
   ]
  },
  {
   "cell_type": "markdown",
   "metadata": {},
   "source": [
    "### Example: A simple RBM <a id='linkEx1'></a>"
   ]
  },
  {
   "cell_type": "code",
   "execution_count": null,
   "metadata": {},
   "outputs": [],
   "source": [
    "import numpy as np\n",
    "from sklearn.neural_network import BernoulliRBM\n",
    "\n",
    "X = np.array([[0, 0, 0], [0, 1, 1], [1, 0, 1], [1, 1, 1]]) # not large enough of course\n",
    "model = BernoulliRBM(n_components=2) # number of hidden units\n",
    "model.fit(X)  \n",
    "BernoulliRBM(batch_size=10, learning_rate=0.1, n_components=2, n_iter=10,\n",
    "       random_state=None, verbose=0)"
   ]
  },
  {
   "cell_type": "markdown",
   "metadata": {},
   "source": [
    "### Example: MNIST <a id='linkEx2'></a>"
   ]
  },
  {
   "cell_type": "code",
   "execution_count": 2,
   "metadata": {},
   "outputs": [
    {
     "name": "stdout",
     "output_type": "stream",
     "text": [
      "Automatically created module for IPython interactive environment\n"
     ]
    }
   ],
   "source": [
    "print(__doc__)\n",
    "\n",
    "# Authors: Yann N. Dauphin, Vlad Niculae, Gabriel Synnaeve\n",
    "# License: BSD\n",
    "\n",
    "import numpy as np\n",
    "import matplotlib.pyplot as plt\n",
    "\n",
    "from scipy.ndimage import convolve\n",
    "from sklearn import linear_model, datasets, metrics\n",
    "from sklearn.model_selection import train_test_split\n",
    "from sklearn.neural_network import BernoulliRBM\n",
    "from sklearn.pipeline import Pipeline\n",
    "from sklearn.base import clone\n",
    "\n",
    "\n",
    "# #############################################################################\n",
    "# Setting up\n",
    "\n",
    "def nudge_dataset(X, Y):\n",
    "    \"\"\"\n",
    "    This produces a dataset 5 times bigger than the original one,\n",
    "    by moving the 8x8 images in X around by 1px to left, right, down, up\n",
    "    \"\"\"\n",
    "    direction_vectors = [\n",
    "        [[0, 1, 0],\n",
    "         [0, 0, 0],\n",
    "         [0, 0, 0]],\n",
    "\n",
    "        [[0, 0, 0],\n",
    "         [1, 0, 0],\n",
    "         [0, 0, 0]],\n",
    "\n",
    "        [[0, 0, 0],\n",
    "         [0, 0, 1],\n",
    "         [0, 0, 0]],\n",
    "\n",
    "        [[0, 0, 0],\n",
    "         [0, 0, 0],\n",
    "         [0, 1, 0]]]\n",
    "\n",
    "    def shift(x, w):\n",
    "        return convolve(x.reshape((8, 8)), mode='constant', weights=w).ravel()\n",
    "\n",
    "    X = np.concatenate([X] +\n",
    "                       [np.apply_along_axis(shift, 1, X, vector)\n",
    "                        for vector in direction_vectors])\n",
    "    Y = np.concatenate([Y for _ in range(5)], axis=0)\n",
    "    return X, Y"
   ]
  },
  {
   "cell_type": "code",
   "execution_count": 5,
   "metadata": {},
   "outputs": [],
   "source": [
    "# Load Data\n",
    "digits = datasets.load_digits()\n",
    "X = np.asarray(digits.data, 'float32')\n",
    "X, Y = nudge_dataset(X, digits.target)\n",
    "X = (X - np.min(X, 0)) / (np.max(X, 0) + 0.0001)  # 0-1 scaling\n",
    "\n",
    "X_train, X_test, Y_train, Y_test = train_test_split(\n",
    "    X, Y, test_size=0.2, random_state=0)\n",
    "\n",
    "# Models we will use\n",
    "logistic = linear_model.LogisticRegression(solver='newton-cg', tol=1,\n",
    "                                           multi_class='multinomial')\n",
    "rbm = BernoulliRBM(random_state=0, verbose=True)\n",
    "\n",
    "rbm_features_classifier = Pipeline(\n",
    "    steps=[('rbm', rbm), ('logistic', logistic)])\n"
   ]
  },
  {
   "cell_type": "code",
   "execution_count": 6,
   "metadata": {},
   "outputs": [
    {
     "name": "stdout",
     "output_type": "stream",
     "text": [
      "[BernoulliRBM] Iteration 1, pseudo-likelihood = -25.39, time = 0.47s\n",
      "[BernoulliRBM] Iteration 2, pseudo-likelihood = -23.77, time = 0.52s\n",
      "[BernoulliRBM] Iteration 3, pseudo-likelihood = -22.94, time = 0.58s\n",
      "[BernoulliRBM] Iteration 4, pseudo-likelihood = -21.91, time = 0.83s\n",
      "[BernoulliRBM] Iteration 5, pseudo-likelihood = -21.69, time = 0.64s\n",
      "[BernoulliRBM] Iteration 6, pseudo-likelihood = -21.06, time = 0.62s\n",
      "[BernoulliRBM] Iteration 7, pseudo-likelihood = -20.89, time = 0.54s\n",
      "[BernoulliRBM] Iteration 8, pseudo-likelihood = -20.64, time = 0.52s\n",
      "[BernoulliRBM] Iteration 9, pseudo-likelihood = -20.36, time = 0.49s\n",
      "[BernoulliRBM] Iteration 10, pseudo-likelihood = -20.09, time = 0.59s\n",
      "[BernoulliRBM] Iteration 11, pseudo-likelihood = -20.08, time = 0.79s\n",
      "[BernoulliRBM] Iteration 12, pseudo-likelihood = -19.82, time = 0.82s\n",
      "[BernoulliRBM] Iteration 13, pseudo-likelihood = -19.64, time = 0.78s\n",
      "[BernoulliRBM] Iteration 14, pseudo-likelihood = -19.61, time = 0.83s\n",
      "[BernoulliRBM] Iteration 15, pseudo-likelihood = -19.57, time = 0.47s\n",
      "[BernoulliRBM] Iteration 16, pseudo-likelihood = -19.41, time = 0.49s\n",
      "[BernoulliRBM] Iteration 17, pseudo-likelihood = -19.30, time = 0.49s\n",
      "[BernoulliRBM] Iteration 18, pseudo-likelihood = -19.25, time = 0.51s\n",
      "[BernoulliRBM] Iteration 19, pseudo-likelihood = -19.27, time = 0.48s\n",
      "[BernoulliRBM] Iteration 20, pseudo-likelihood = -19.01, time = 0.49s\n"
     ]
    },
    {
     "data": {
      "text/plain": [
       "LogisticRegression(C=100.0, class_weight=None, dual=False, fit_intercept=True,\n",
       "          intercept_scaling=1, max_iter=100, multi_class='multinomial',\n",
       "          n_jobs=None, penalty='l2', random_state=None, solver='newton-cg',\n",
       "          tol=1, verbose=0, warm_start=False)"
      ]
     },
     "execution_count": 6,
     "metadata": {},
     "output_type": "execute_result"
    }
   ],
   "source": [
    "# Training\n",
    "\n",
    "# Hyper-parameters. These were set by cross-validation, using a GridSearchCV. \n",
    "# Here we are not performing cross-validation to save time.\n",
    "rbm.learning_rate = 0.06\n",
    "rbm.n_iter = 20\n",
    "rbm.n_components = 100 # More components tend to give better prediction performance, but larger fitting time\n",
    "logistic.C = 6000\n",
    "\n",
    "# Training RBM-Logistic Pipeline\n",
    "rbm_features_classifier.fit(X_train, Y_train)\n",
    "\n",
    "# Training the Logistic regression classifier directly on the pixel\n",
    "raw_pixel_classifier = clone(logistic)\n",
    "raw_pixel_classifier.C = 100.\n",
    "raw_pixel_classifier.fit(X_train, Y_train)"
   ]
  },
  {
   "cell_type": "code",
   "execution_count": 7,
   "metadata": {},
   "outputs": [
    {
     "name": "stdout",
     "output_type": "stream",
     "text": [
      "Logistic regression using RBM features:\n",
      "              precision    recall  f1-score   support\n",
      "\n",
      "           0       0.98      0.98      0.98       174\n",
      "           1       0.90      0.92      0.91       184\n",
      "           2       0.92      0.95      0.93       166\n",
      "           3       0.96      0.89      0.92       194\n",
      "           4       0.97      0.93      0.95       186\n",
      "           5       0.94      0.93      0.94       181\n",
      "           6       0.98      0.98      0.98       207\n",
      "           7       0.92      0.99      0.95       154\n",
      "           8       0.89      0.88      0.89       182\n",
      "           9       0.91      0.93      0.92       169\n",
      "\n",
      "   micro avg       0.94      0.94      0.94      1797\n",
      "   macro avg       0.94      0.94      0.94      1797\n",
      "weighted avg       0.94      0.94      0.94      1797\n",
      "\n",
      "\n",
      "Logistic regression using raw pixel features:\n",
      "              precision    recall  f1-score   support\n",
      "\n",
      "           0       0.90      0.91      0.91       174\n",
      "           1       0.60      0.59      0.59       184\n",
      "           2       0.75      0.85      0.80       166\n",
      "           3       0.78      0.78      0.78       194\n",
      "           4       0.81      0.84      0.83       186\n",
      "           5       0.76      0.77      0.77       181\n",
      "           6       0.91      0.87      0.89       207\n",
      "           7       0.85      0.88      0.87       154\n",
      "           8       0.67      0.57      0.62       182\n",
      "           9       0.75      0.76      0.76       169\n",
      "\n",
      "   micro avg       0.78      0.78      0.78      1797\n",
      "   macro avg       0.78      0.78      0.78      1797\n",
      "weighted avg       0.78      0.78      0.78      1797\n",
      "\n",
      "\n"
     ]
    }
   ],
   "source": [
    "# Evaluation\n",
    "\n",
    "Y_pred = rbm_features_classifier.predict(X_test)\n",
    "print(\"Logistic regression using RBM features:\\n%s\\n\" % (\n",
    "    metrics.classification_report(Y_test, Y_pred)))\n",
    "\n",
    "Y_pred = raw_pixel_classifier.predict(X_test)\n",
    "print(\"Logistic regression using raw pixel features:\\n%s\\n\" % (\n",
    "    metrics.classification_report(Y_test, Y_pred)))"
   ]
  },
  {
   "cell_type": "code",
   "execution_count": 8,
   "metadata": {},
   "outputs": [
    {
     "data": {
      "image/png": "[encoded data removed]",
      "text/plain": [
       "<Figure size 302.4x288 with 100 Axes>"
      ]
     },
     "metadata": {},
     "output_type": "display_data"
    }
   ],
   "source": [
    "# Plotting\n",
    "plt.rcParams[\"figure.figsize\"] = (10, 10)\n",
    "\n",
    "plt.figure(figsize=(4.2, 4))\n",
    "for i, comp in enumerate(rbm.components_):\n",
    "    plt.subplot(10, 10, i + 1)\n",
    "    plt.imshow(comp.reshape((8, 8)), cmap=plt.cm.gray_r,\n",
    "               interpolation='nearest')\n",
    "    plt.xticks(())\n",
    "    plt.yticks(())\n",
    "plt.suptitle('100 components extracted by RBM', fontsize=16)\n",
    "plt.subplots_adjust(0.08, 0.02, 0.92, 0.85, 0.08, 0.23)\n",
    "\n",
    "#plt.show()"
   ]
  },
  {
   "cell_type": "code",
   "execution_count": 14,
   "metadata": {},
   "outputs": [
    {
     "name": "stdout",
     "output_type": "stream",
     "text": [
      "2\n"
     ]
    },
    {
     "data": {
      "text/plain": [
       "<matplotlib.image.AxesImage at 0x7f83f307f6a0>"
      ]
     },
     "execution_count": 14,
     "metadata": {},
     "output_type": "execute_result"
    },
    {
     "data": {
      "image/png": "[encoded data removed]",
      "text/plain": [
       "<Figure size 720x720 with 1 Axes>"
      ]
     },
     "metadata": {
      "needs_background": "light"
     },
     "output_type": "display_data"
    }
   ],
   "source": [
    "print(Y[50])\n",
    "\n",
    "plt.imshow(X[50].reshape((8, 8)), cmap=plt.cm.gray_r,\n",
    "               interpolation='nearest')"
   ]
  },
  {
   "cell_type": "code",
   "execution_count": 22,
   "metadata": {},
   "outputs": [
    {
     "name": "stdout",
     "output_type": "stream",
     "text": [
      "[BernoulliRBM] Iteration 1, pseudo-likelihood = -25.39, time = 0.44s\n",
      "[BernoulliRBM] Iteration 2, pseudo-likelihood = -23.77, time = 0.50s\n",
      "[BernoulliRBM] Iteration 3, pseudo-likelihood = -22.94, time = 0.56s\n",
      "[BernoulliRBM] Iteration 4, pseudo-likelihood = -21.91, time = 0.49s\n",
      "[BernoulliRBM] Iteration 5, pseudo-likelihood = -21.69, time = 0.51s\n",
      "[BernoulliRBM] Iteration 6, pseudo-likelihood = -21.06, time = 0.52s\n",
      "[BernoulliRBM] Iteration 7, pseudo-likelihood = -20.89, time = 0.49s\n",
      "[BernoulliRBM] Iteration 8, pseudo-likelihood = -20.64, time = 0.50s\n",
      "[BernoulliRBM] Iteration 9, pseudo-likelihood = -20.36, time = 0.51s\n",
      "[BernoulliRBM] Iteration 10, pseudo-likelihood = -20.09, time = 0.84s\n",
      "[BernoulliRBM] Iteration 11, pseudo-likelihood = -20.08, time = 0.84s\n",
      "[BernoulliRBM] Iteration 12, pseudo-likelihood = -19.82, time = 1.02s\n",
      "[BernoulliRBM] Iteration 13, pseudo-likelihood = -19.64, time = 0.84s\n",
      "[BernoulliRBM] Iteration 14, pseudo-likelihood = -19.61, time = 0.96s\n",
      "[BernoulliRBM] Iteration 15, pseudo-likelihood = -19.57, time = 0.88s\n",
      "[BernoulliRBM] Iteration 16, pseudo-likelihood = -19.41, time = 0.84s\n",
      "[BernoulliRBM] Iteration 17, pseudo-likelihood = -19.30, time = 0.86s\n",
      "[BernoulliRBM] Iteration 18, pseudo-likelihood = -19.25, time = 0.83s\n",
      "[BernoulliRBM] Iteration 19, pseudo-likelihood = -19.27, time = 0.84s\n",
      "[BernoulliRBM] Iteration 20, pseudo-likelihood = -19.01, time = 0.68s\n"
     ]
    },
    {
     "data": {
      "text/plain": [
       "<matplotlib.image.AxesImage at 0x7f83f3481940>"
      ]
     },
     "execution_count": 22,
     "metadata": {},
     "output_type": "execute_result"
    },
    {
     "data": {
      "image/png": "[encoded data removed]",
      "text/plain": [
       "<Figure size 720x720 with 1 Axes>"
      ]
     },
     "metadata": {
      "needs_background": "light"
     },
     "output_type": "display_data"
    }
   ],
   "source": [
    "# Here I try to see what the result of fitting data to a learned model. Seems that the\n",
    "# output is the hidden nodes, I don't know how to get back the visible nodes\n",
    "rbmX=rbm.fit_transform(X_train, Y_train)\n",
    "\"\"\"\"\n",
    "print(Y[50])\n",
    "rbmX=rbm.gibbs(X[50])\n",
    "\"\"\"\n",
    "plt.imshow(rbmX[200].reshape((10, 10)), cmap=plt.cm.gray_r,\n",
    "               interpolation='nearest')"
   ]
  },
  {
   "cell_type": "markdown",
   "metadata": {},
   "source": [
    "### Resources <a id='linkResources'></a>\n",
    "\n",
    "#### Most useful links I found\n",
    "\n",
    "- [Excellent overview](https://christian-igel.github.io/paper/TRBMAI.pdf)\n",
    "- [Simple review](http://www.cs.utoronto.ca/~hinton/csc321/readings/boltz321.pdf)\n",
    "- [Blog style post](https://medium.com/@neuralnets/boltzmann-machines-transformation-of-unsupervised-deep-learning-part-1-42659a74f530)\n",
    "\n",
    "#### Classic Papers\n",
    "- [Hopfield Network](https://www.pnas.org/content/pnas/79/8/2554.full.pdf)\n",
    "- [Hinton's Boltzmann Machine learning algortithm](https://www.sciencedirect.com/science/article/pii/S0364021385800124)\n",
    "\n",
    "#### scikit-learn links\n",
    "- [MNIST example](https://scikit-learn.org/stable/auto_examples/neural_networks/plot_rbm_logistic_classification.html)\n",
    "- [scikit-learn BernoulliRBM](https://scikit-learn.org/stable/modules/generated/sklearn.neural_network.BernoulliRBM.html)\n",
    "- [Pipeline tutorial](https://scikit-learn.org/stable/modules/generated/sklearn.pipeline.Pipeline.html)\n",
    "\n",
    "#### Further reading\n",
    "\n",
    "- [On the equivalence of Hopfield networks and Boltzmann Machines](https://www.sciencedirect.com/science/article/pii/S0893608012001608)\n",
    "- [Simulating complex wavefunctions](https://www.nature.com/articles/s41567-019-0545-1)"
   ]
  },
  {
   "cell_type": "code",
   "execution_count": null,
   "metadata": {},
   "outputs": [],
   "source": []
  }
 ],
 "metadata": {
  "kernelspec": {
   "display_name": "Python 3",
   "language": "python",
   "name": "python3"
  },
  "language_info": {
   "codemirror_mode": {
    "name": "ipython",
    "version": 3
   },
   "file_extension": ".py",
   "mimetype": "text/x-python",
   "name": "python",
   "nbconvert_exporter": "python",
   "pygments_lexer": "ipython3",
   "version": "3.7.1"
  }
 },
 "nbformat": 4,
 "nbformat_minor": 2
}
